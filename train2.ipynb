{
 "cells": [
  {
   "cell_type": "code",
   "execution_count": 1,
   "metadata": {},
   "outputs": [
    {
     "name": "stdout",
     "output_type": "stream",
     "text": [
      "Compiling 51 TensorCircuit layers...\n"
     ]
    },
    {
     "name": "stderr",
     "output_type": "stream",
     "text": [
      "100%|██████████| 51/51 [00:08<00:00,  5.86it/s]\n"
     ]
    },
    {
     "name": "stdout",
     "output_type": "stream",
     "text": [
      "tensor([[ 14, 124,  58,  ...,  64, 194, 113],\n",
      "        [223,  89,  86,  ...,  82, 110, 164],\n",
      "        [209,  88, 186,  ...,  28,   7, 194],\n",
      "        ...,\n",
      "        [ 11, 193, 210,  ..., 103, 232,  26],\n",
      "        [251, 255,  45,  ..., 107, 210, 233],\n",
      "        [229, 212, 216,  ..., 175,  35, 231]], device='cuda:0')\n",
      "torch.Size([500, 784])\n"
     ]
    }
   ],
   "source": [
    "import pyjuice as juice\n",
    "import torch\n",
    "import torchvision\n",
    "import numpy as np\n",
    "from torch.utils.data import TensorDataset, DataLoader\n",
    "\n",
    "    \n",
    "def main():\n",
    "    device = torch.device(\"cuda:0\")\n",
    "\n",
    "    train_dataset = torchvision.datasets.MNIST(root = \"./examples/data\", train = True, download = True)\n",
    "    test_dataset = torchvision.datasets.MNIST(root = \"./examples/data\", train = False, download = True)\n",
    "\n",
    "    train_data = train_dataset.data.reshape(60000, 28*28)\n",
    "    test_data = test_dataset.data.reshape(10000, 28*28)\n",
    "\n",
    "    num_features = train_data.size(1)\n",
    "\n",
    "    train_loader = DataLoader(\n",
    "        dataset = TensorDataset(train_data),\n",
    "        batch_size = 512,\n",
    "        shuffle = True,\n",
    "        drop_last = True\n",
    "    )\n",
    "    test_loader = DataLoader(\n",
    "        dataset = TensorDataset(test_data),\n",
    "        batch_size = 512,\n",
    "        shuffle = False,\n",
    "        drop_last = True\n",
    "    )\n",
    "\n",
    "    ns = juice.structures.HCLT(\n",
    "        train_data.float().to(device), \n",
    "        num_bins = 32, \n",
    "        sigma = 0.5 / 32, \n",
    "        num_latents = 128, \n",
    "        chunk_size = 32\n",
    "    )\n",
    "    ns.init_parameters(perturbation = 2.0)\n",
    "    pc = juice.TensorCircuit(ns)\n",
    "\n",
    "    pc.to(device)\n",
    "\n",
    "    samples = juice.queries.sample(pc, num_samples = 500)\n",
    "\n",
    "    print(samples)\n",
    "    print(samples.shape)\n",
    "\n",
    "    # import pdb; pdb.set_trace()\n",
    "\n",
    "\n",
    "if __name__ == \"__main__\":\n",
    "    main()"
   ]
  },
  {
   "cell_type": "code",
   "execution_count": null,
   "metadata": {},
   "outputs": [],
   "source": []
  }
 ],
 "metadata": {
  "kernelspec": {
   "display_name": "pyjuice_env",
   "language": "python",
   "name": "python3"
  },
  "language_info": {
   "codemirror_mode": {
    "name": "ipython",
    "version": 3
   },
   "file_extension": ".py",
   "mimetype": "text/x-python",
   "name": "python",
   "nbconvert_exporter": "python",
   "pygments_lexer": "ipython3",
   "version": "3.9.19"
  }
 },
 "nbformat": 4,
 "nbformat_minor": 2
}
